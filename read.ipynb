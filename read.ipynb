{
 "cells": [
  {
   "cell_type": "code",
   "execution_count": null,
   "metadata": {},
   "outputs": [],
   "source": [
    "import pyxdf\n",
    "import soundfile as sf\n",
    "import numpy as np"
   ]
  },
  {
   "cell_type": "code",
   "execution_count": null,
   "metadata": {},
   "outputs": [],
   "source": [
    "def segment_modalities_optimized(marker_timestamps, modality_timestamps, modality_data):\n",
    "    \"\"\"\n",
    "    Optimized segmentation of data for a modality based on marker timestamps, accommodating different sampling rates.\n",
    "\n",
    "    :param marker_timestamps: Timestamps of markers.\n",
    "    :param modality_timestamps: Timestamps of the modality data.\n",
    "    :param modality_data: Data of the modality to be segmented.\n",
    "    :return: A list of data segments for the modality.\n",
    "    \"\"\"\n",
    "    # Convert to numpy arrays for efficient computation\n",
    "    marker_timestamps = np.array(marker_timestamps)\n",
    "    modality_timestamps = np.array(modality_timestamps)\n",
    "\n",
    "    # Find insertion points for each marker in the modality timestamps\n",
    "    insert_points = np.searchsorted(modality_timestamps, marker_timestamps)\n",
    "    print(insert_points)\n",
    "    segments = []\n",
    "    for i in range(len(insert_points) - 1):\n",
    "        # Extract and store the segment\n",
    "        start_index = insert_points[i]\n",
    "        end_index = insert_points[i + 1]\n",
    "        segment = modality_data[start_index:end_index]\n",
    "        segments.append(segment)\n",
    "\n",
    "    # Handle the last segment, from the last marker to the end of the data stream\n",
    "    if insert_points[-1] < len(modality_data):\n",
    "        last_segment = modality_data[insert_points[-1]:]\n",
    "        segments.append(last_segment)\n",
    "    else:\n",
    "        # If the last marker is exactly at or beyond the end of the data, append an empty segment\n",
    "        segments.append([])\n",
    "\n",
    "    return segments"
   ]
  },
  {
   "cell_type": "code",
   "execution_count": null,
   "metadata": {},
   "outputs": [],
   "source": [
    "data, header = pyxdf.load_xdf('sub-12_task-words_run-001.xdf')"
   ]
  },
  {
   "cell_type": "code",
   "execution_count": null,
   "metadata": {},
   "outputs": [],
   "source": [
    "data_types = ['EEG', 'Markers', 'Audio']\n",
    "assert len(data) == 3\n",
    "# check whether the data has 3 streams of type 'Markers', 'EEG' and 'Audio' index can be different\n",
    "assert all([d['info']['type'][0] in data_types for d in data])"
   ]
  },
  {
   "cell_type": "code",
   "execution_count": null,
   "metadata": {},
   "outputs": [],
   "source": [
    "marker_stream = [d for d in data if d['info']['type'][0] == 'Markers'][0]\n",
    "eeg_stream = [d for d in data if d['info']['type'][0] == 'EEG'][0]\n",
    "audio_stream = [d for d in data if d['info']['type'][0] == 'Audio'][0]"
   ]
  },
  {
   "cell_type": "code",
   "execution_count": null,
   "metadata": {},
   "outputs": [],
   "source": [
    "s = segment_modalities_optimized(marker_stream['time_stamps'], audio_stream['time_stamps'], audio_stream['time_series'].squeeze())"
   ]
  },
  {
   "cell_type": "code",
   "execution_count": 1,
   "metadata": {},
   "outputs": [],
   "source": [
    "def write_audio_data(audio_data_buffer, out_path='audio.wav'):\n",
    "    audio_fs = 44100\n",
    "    sf.write(out_path, audio_data_buffer, audio_fs)"
   ]
  }
 ],
 "metadata": {
  "kernelspec": {
   "display_name": "lsl",
   "language": "python",
   "name": "python3"
  },
  "language_info": {
   "codemirror_mode": {
    "name": "ipython",
    "version": 3
   },
   "file_extension": ".py",
   "mimetype": "text/x-python",
   "name": "python",
   "nbconvert_exporter": "python",
   "pygments_lexer": "ipython3",
   "version": "3.11.8"
  }
 },
 "nbformat": 4,
 "nbformat_minor": 2
}
